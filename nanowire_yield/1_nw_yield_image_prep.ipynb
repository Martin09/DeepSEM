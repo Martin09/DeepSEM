{
  "nbformat": 4,
  "nbformat_minor": 0,
  "metadata": {
    "colab": {
      "name": "1_nw_yield-image_prep.ipynb",
      "provenance": [],
      "collapsed_sections": [],
      "toc_visible": true,
      "include_colab_link": true
    },
    "kernelspec": {
      "name": "python3",
      "display_name": "Python 3"
    },
    "accelerator": "GPU"
  },
  "cells": [
    {
      "cell_type": "markdown",
      "metadata": {
        "id": "view-in-github",
        "colab_type": "text"
      },
      "source": [
        "<a href=\"https://colab.research.google.com/github/Martin09/DeepSEM/blob/master/nanowire_yield/1_nw_yield_image_prep.ipynb\" target=\"_parent\"><img src=\"https://colab.research.google.com/assets/colab-badge.svg\" alt=\"Open In Colab\"/></a>"
      ]
    },
    {
      "cell_type": "markdown",
      "metadata": {
        "id": "QHnVupBBn9eR",
        "colab_type": "text"
      },
      "source": [
        "# 1 - Dataset Peparation for NW Yield\n",
        "In this notebook we will:\n",
        "1. Import our raw SEM images.\n",
        "2. Segment each image into 6 smaller images for easier labelling/training and export images as PNG files.\n",
        "3. Export images for labelling to a new [Labelbox](https://labelbox.com/) project."
      ]
    },
    {
      "cell_type": "markdown",
      "metadata": {
        "id": "eFuJHciptkop",
        "colab_type": "text"
      },
      "source": [
        "## 1.1 - Download the dataset"
      ]
    },
    {
      "cell_type": "code",
      "metadata": {
        "id": "4Qg7zSVOulkb",
        "colab_type": "code",
        "colab": {}
      },
      "source": [
        "# Clone the DeepSEM repository\n",
        "!rm -rf DeepSEM\n",
        "!git clone https://github.com/Martin09/DeepSEM\n",
        "\n",
        "# OR\n",
        "\n",
        "# # Load from my GoogleDrive\n",
        "# from google.colab import drive\n",
        "# drive.mount('/content/gdrive/')\n",
        "# %cd \"/content/gdrive/My Drive/LMSC/MachineLearning/Colab\""
      ],
      "execution_count": 0,
      "outputs": []
    },
    {
      "cell_type": "code",
      "metadata": {
        "id": "pZmNheg9dyd0",
        "colab_type": "code",
        "colab": {}
      },
      "source": [
        "# CAUTION, WE WILL REMOVE EXISTING DATASET FOLDER!\n",
        "dataset_dir = './DeepSEM/nanowire_yield/datasets/NWs-8kMag-rawtiffs'\n",
        "!rm -rf $dataset_dir\n",
        "!wget https://github.com/Martin09/DeepSEM/raw/master/nanowire_yield/datasets/NWs-8kMag-rawtiffs.zip\n",
        "!unzip NWs-8kMag-rawtiffs.zip -d $dataset_dir\n",
        "!rm NWs-8kMag-rawtiffs.zip"
      ],
      "execution_count": 0,
      "outputs": []
    },
    {
      "cell_type": "markdown",
      "metadata": {
        "id": "jFLPFKsnvCK8",
        "colab_type": "text"
      },
      "source": [
        "## 1.2 - Segment Images\n",
        "Here we will import the raw TIFF images and segment them into smaller images to reduce the number of objects per image. From experience, if we use the full-scale images, the ~1000 objects slows down the labelling software significantly. If we divide each image into 6 smaller pieces, we can then have only a few hundred images per image.\n",
        "\n",
        "The best part is that once we have trained a model on these smaller images, we can then run this model on the full-scale images."
      ]
    },
    {
      "cell_type": "code",
      "metadata": {
        "id": "CCIObdc6s4zh",
        "colab_type": "code",
        "colab": {}
      },
      "source": [
        "import glob, cv2\n",
        "from google.colab.patches import cv2_imshow\n",
        "input_files = glob.glob('./DeepSEM/nanowire_yield/datasets/NWs-8kMag-rawtiffs/*.tif')"
      ],
      "execution_count": 0,
      "outputs": []
    },
    {
      "cell_type": "markdown",
      "metadata": {
        "id": "MqZNzrl5xbME",
        "colab_type": "text"
      },
      "source": [
        "Import a raw TIFF image to see what it looks like."
      ]
    },
    {
      "cell_type": "code",
      "metadata": {
        "id": "dy80FkXxw5q1",
        "colab_type": "code",
        "colab": {}
      },
      "source": [
        "im = cv2.imread(input_files[0], cv2.IMREAD_GRAYSCALE)\n",
        "cv2_imshow(im)"
      ],
      "execution_count": 0,
      "outputs": []
    },
    {
      "cell_type": "markdown",
      "metadata": {
        "id": "MTFo84wFvRPa",
        "colab_type": "text"
      },
      "source": [
        "Loop over all the raw image files, and subdivide each one then save each sub-image as a separate PNG file."
      ]
    },
    {
      "cell_type": "code",
      "metadata": {
        "id": "RPND0bPjvVWh",
        "colab_type": "code",
        "colab": {}
      },
      "source": [
        "# CAUTION, WE WILL REMOVE EXISTING DATASET FOLDER!\n",
        "output_directory = './DeepSEM/nanowire_yield/datasets/NWs-8kMag-subdivided/'\n",
        "!rm -rf $output_directory\n",
        "!mkdir $output_directory"
      ],
      "execution_count": 0,
      "outputs": []
    },
    {
      "cell_type": "code",
      "metadata": {
        "id": "Bw4wkOXStcQB",
        "colab_type": "code",
        "colab": {}
      },
      "source": [
        "# Loop over the TIFF files\n",
        "for file in input_files:\n",
        "    img = cv2.imread(file, cv2.IMREAD_GRAYSCALE) # Import the next image\n",
        "\n",
        "    # Trim off the overlay bar at bottom of image\n",
        "    img = img[:688,:]\n",
        "    \n",
        "    img_h,img_w = img.shape\n",
        "    num_div_w = 3\n",
        "    num_div_h = 2\n",
        "\n",
        "    new_img_w = int(img_w/num_div_w)\n",
        "    new_img_h = int(img_h/num_div_h)\n",
        "\n",
        "    for i in range(num_div_w): # Loop over number of images in x direction\n",
        "        for j in range (num_div_h): # Loop over number of images in y direction\n",
        "            x_start = i * new_img_w\n",
        "            x_end = (i+1) * new_img_w\n",
        "            y_start = j * new_img_h\n",
        "            y_end = (j+1) * new_img_h\n",
        "            # print(\"x:{} to {}. y: {} to {}.\".format(x_start,x_end,y_start,y_end))\n",
        "\n",
        "            filename = output_directory + file[:-4].split('/')[-1]+'_x{}_y{}.png'.format(i,j)\n",
        "            print(filename)\n",
        "\n",
        "            img_cropped = img[y_start:y_end,x_start:x_end] # Crop the image down to the calculated size\n",
        "            success = cv2.imwrite(filename, (img_cropped).astype('uint8')) # Save divided image as PNG\n",
        "\n",
        "            if not success:\n",
        "                print(\"Error, couldn't write image '{}'. Check if output directory exists!\".format(filename))"
      ],
      "execution_count": 0,
      "outputs": []
    },
    {
      "cell_type": "markdown",
      "metadata": {
        "id": "rHDFwohUxqHC",
        "colab_type": "text"
      },
      "source": [
        "Visualize what a cropped image looks like:"
      ]
    },
    {
      "cell_type": "code",
      "metadata": {
        "id": "djARaJj8tyr3",
        "colab_type": "code",
        "colab": {}
      },
      "source": [
        "im = cv2.imread('./DeepSEM/nanowire_yield/datasets/NWs-8kMag-subdivided/160nm_13_x2_y1.png', cv2.IMREAD_GRAYSCALE)\n",
        "cv2_imshow(im)"
      ],
      "execution_count": 0,
      "outputs": []
    },
    {
      "cell_type": "markdown",
      "metadata": {
        "id": "vzGgQc2q-5HC",
        "colab_type": "text"
      },
      "source": [
        "## 1.3 - Labelling"
      ]
    },
    {
      "cell_type": "markdown",
      "metadata": {
        "id": "-aNkCE9vyrZV",
        "colab_type": "text"
      },
      "source": [
        "Now we are ready to label these images for training the neural network. There are many tools available for creating labelled datasets. In this tutorial I will be using [Labelbox](https://labelbox.com/) for this purpose. Let's install it first:"
      ]
    },
    {
      "cell_type": "code",
      "metadata": {
        "id": "axaCMz2I-vZ1",
        "colab_type": "code",
        "colab": {}
      },
      "source": [
        "!pip install labelbox"
      ],
      "execution_count": 0,
      "outputs": []
    },
    {
      "cell_type": "markdown",
      "metadata": {
        "id": "tL4hsHAwBaph",
        "colab_type": "text"
      },
      "source": [
        "If you haven't already done so, go ahead and make a free Labelbox account. You can either upload your images to be labelled manually, or you can upload them directly using this script below. If you want to upload the images from this script, you need to create an API key [here](https://app.labelbox.com/account/api-keys) and paste it below:"
      ]
    },
    {
      "cell_type": "code",
      "metadata": {
        "id": "5HC1E-9yBvK-",
        "colab_type": "code",
        "colab": {}
      },
      "source": [
        "API_KEY = '[INSERT API KEY HERE]'"
      ],
      "execution_count": 0,
      "outputs": []
    },
    {
      "cell_type": "markdown",
      "metadata": {
        "id": "VAxyef1lBw2V",
        "colab_type": "text"
      },
      "source": [
        "Now we can make a new Labelbox project and a new dataset before uploading the sub-divided images."
      ]
    },
    {
      "cell_type": "code",
      "metadata": {
        "id": "IrziJJ4g-2YG",
        "colab_type": "code",
        "colab": {}
      },
      "source": [
        "# Change these names if you wish\n",
        "project_name = 'NW Yield'\n",
        "dataset_name = 'NWs-8kMag-subdivided'\n",
        "\n",
        "# Create a new project and dataset in Labelbox\n",
        "from labelbox import Client\n",
        "client = Client(API_KEY)\n",
        "project = client.create_project(name=project_name)\n",
        "dataset = client.create_dataset(name=dataset_name, projects=project)"
      ],
      "execution_count": 0,
      "outputs": []
    },
    {
      "cell_type": "code",
      "metadata": {
        "id": "5UtLh1HiBEFk",
        "colab_type": "code",
        "colab": {}
      },
      "source": [
        "# Perform a bulk upload of the subdivided PNG files\n",
        "dataset_dir = './DeepSEM/nanowire_yield/datasets/NWs-8kMag-subdivided/'\n",
        "dataset_files = glob.glob(dataset_dir + '*.png')  # Get a list of the files to upload\n",
        "dataset.create_data_rows(dataset_files) # Upload the files"
      ],
      "execution_count": 0,
      "outputs": []
    },
    {
      "cell_type": "markdown",
      "metadata": {
        "id": "GPTKARhnD5sf",
        "colab_type": "text"
      },
      "source": [
        "After a few minutes, you should see the new project and images appear in your Labelbox account, [here](https://app.labelbox.com/projects). You can now finish setting up your Labelbox project on the website, including setting your object classes.\n",
        "\n",
        "Then comes the time-consuming part: labelling your data. For this tutorial, we will only be doing bounding box detection. Therefore, be sure to ***only*** define bounding box objects (not segmentation or polygon objects, for example).\n",
        "\n",
        "The next notebook assumes you have finished your labelling and have exported a labelbox .JSON file with all of your bounding box labels."
      ]
    }
  ]
}